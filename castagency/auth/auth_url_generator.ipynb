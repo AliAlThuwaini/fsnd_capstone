{
 "metadata": {
  "language_info": {
   "codemirror_mode": {
    "name": "ipython",
    "version": 3
   },
   "file_extension": ".py",
   "mimetype": "text/x-python",
   "name": "python",
   "nbconvert_exporter": "python",
   "pygments_lexer": "ipython3",
   "version": "3.9.2-final"
  },
  "orig_nbformat": 2,
  "kernelspec": {
   "name": "python39264bita4345fb39f8e461da034e3e09461f431",
   "display_name": "Python 3.9.2 64-bit",
   "language": "python"
  }
 },
 "nbformat": 4,
 "nbformat_minor": 2,
 "cells": [
  {
   "cell_type": "code",
   "execution_count": 5,
   "metadata": {},
   "outputs": [],
   "source": [
    "import json\n",
    "from jose import jwt\n",
    "from urllib.request import urlopen"
   ]
  },
  {
   "cell_type": "code",
   "execution_count": 6,
   "metadata": {},
   "outputs": [],
   "source": [
    "# Configuration\n",
    "# UPDATE THIS TO REFLECT YOUR AUTH0 ACCOUNT\n",
    "AUTH0_DOMAIN = 'fsnd-ali.us.auth0.com'\n",
    "ALGORITHMS = ['RS256']\n",
    "API_AUDIENCE = 'casting_agency'"
   ]
  },
  {
   "cell_type": "code",
   "execution_count": 8,
   "metadata": {},
   "outputs": [
    {
     "output_type": "stream",
     "name": "stdout",
     "text": [
      "https://fsnd-ali.us.auth0.com/authorize?audience=casting_agency&response_type=token&client_id=2bgmIGbVw46zVG7VE0DAVoxnr3vsXzP8&redirect_uri=http://localhost:8080/login-results\n"
     ]
    }
   ],
   "source": [
    "CLIENT_ID = '2bgmIGbVw46zVG7VE0DAVoxnr3vsXzP8'\n",
    "CALLBACK_URI = 'http://localhost:8080/login-results'\n",
    "\n",
    "\n",
    "# Generating login URL in Auth0 in order to get the login token back (put the below URL in the browser and execute it)\n",
    "to_login_rul = f'https://{AUTH0_DOMAIN}/authorize?audience={API_AUDIENCE}&response_type=token&client_id={CLIENT_ID}&redirect_uri={CALLBACK_URI}'\n",
    "\n",
    "print(to_login_rul)"
   ]
  },
  {
   "cell_type": "code",
   "execution_count": null,
   "metadata": {},
   "outputs": [],
   "source": []
  }
 ]
}